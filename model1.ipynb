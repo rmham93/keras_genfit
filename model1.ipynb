{
 "cells": [
  {
   "cell_type": "code",
   "execution_count": 2,
   "metadata": {},
   "outputs": [
    {
     "name": "stderr",
     "output_type": "stream",
     "text": [
      "C:\\Users\\nur\\anaconda3\\lib\\site-packages\\tensorflow\\python\\framework\\dtypes.py:516: FutureWarning: Passing (type, 1) or '1type' as a synonym of type is deprecated; in a future version of numpy, it will be understood as (type, (1,)) / '(1,)type'.\n",
      "  _np_qint8 = np.dtype([(\"qint8\", np.int8, 1)])\n",
      "C:\\Users\\nur\\anaconda3\\lib\\site-packages\\tensorflow\\python\\framework\\dtypes.py:517: FutureWarning: Passing (type, 1) or '1type' as a synonym of type is deprecated; in a future version of numpy, it will be understood as (type, (1,)) / '(1,)type'.\n",
      "  _np_quint8 = np.dtype([(\"quint8\", np.uint8, 1)])\n",
      "C:\\Users\\nur\\anaconda3\\lib\\site-packages\\tensorflow\\python\\framework\\dtypes.py:518: FutureWarning: Passing (type, 1) or '1type' as a synonym of type is deprecated; in a future version of numpy, it will be understood as (type, (1,)) / '(1,)type'.\n",
      "  _np_qint16 = np.dtype([(\"qint16\", np.int16, 1)])\n",
      "C:\\Users\\nur\\anaconda3\\lib\\site-packages\\tensorflow\\python\\framework\\dtypes.py:519: FutureWarning: Passing (type, 1) or '1type' as a synonym of type is deprecated; in a future version of numpy, it will be understood as (type, (1,)) / '(1,)type'.\n",
      "  _np_quint16 = np.dtype([(\"quint16\", np.uint16, 1)])\n",
      "C:\\Users\\nur\\anaconda3\\lib\\site-packages\\tensorflow\\python\\framework\\dtypes.py:520: FutureWarning: Passing (type, 1) or '1type' as a synonym of type is deprecated; in a future version of numpy, it will be understood as (type, (1,)) / '(1,)type'.\n",
      "  _np_qint32 = np.dtype([(\"qint32\", np.int32, 1)])\n",
      "C:\\Users\\nur\\anaconda3\\lib\\site-packages\\tensorflow\\python\\framework\\dtypes.py:525: FutureWarning: Passing (type, 1) or '1type' as a synonym of type is deprecated; in a future version of numpy, it will be understood as (type, (1,)) / '(1,)type'.\n",
      "  np_resource = np.dtype([(\"resource\", np.ubyte, 1)])\n",
      "C:\\Users\\nur\\anaconda3\\lib\\site-packages\\tensorboard\\compat\\tensorflow_stub\\dtypes.py:541: FutureWarning: Passing (type, 1) or '1type' as a synonym of type is deprecated; in a future version of numpy, it will be understood as (type, (1,)) / '(1,)type'.\n",
      "  _np_qint8 = np.dtype([(\"qint8\", np.int8, 1)])\n",
      "C:\\Users\\nur\\anaconda3\\lib\\site-packages\\tensorboard\\compat\\tensorflow_stub\\dtypes.py:542: FutureWarning: Passing (type, 1) or '1type' as a synonym of type is deprecated; in a future version of numpy, it will be understood as (type, (1,)) / '(1,)type'.\n",
      "  _np_quint8 = np.dtype([(\"quint8\", np.uint8, 1)])\n",
      "C:\\Users\\nur\\anaconda3\\lib\\site-packages\\tensorboard\\compat\\tensorflow_stub\\dtypes.py:543: FutureWarning: Passing (type, 1) or '1type' as a synonym of type is deprecated; in a future version of numpy, it will be understood as (type, (1,)) / '(1,)type'.\n",
      "  _np_qint16 = np.dtype([(\"qint16\", np.int16, 1)])\n",
      "C:\\Users\\nur\\anaconda3\\lib\\site-packages\\tensorboard\\compat\\tensorflow_stub\\dtypes.py:544: FutureWarning: Passing (type, 1) or '1type' as a synonym of type is deprecated; in a future version of numpy, it will be understood as (type, (1,)) / '(1,)type'.\n",
      "  _np_quint16 = np.dtype([(\"quint16\", np.uint16, 1)])\n",
      "C:\\Users\\nur\\anaconda3\\lib\\site-packages\\tensorboard\\compat\\tensorflow_stub\\dtypes.py:545: FutureWarning: Passing (type, 1) or '1type' as a synonym of type is deprecated; in a future version of numpy, it will be understood as (type, (1,)) / '(1,)type'.\n",
      "  _np_qint32 = np.dtype([(\"qint32\", np.int32, 1)])\n",
      "C:\\Users\\nur\\anaconda3\\lib\\site-packages\\tensorboard\\compat\\tensorflow_stub\\dtypes.py:550: FutureWarning: Passing (type, 1) or '1type' as a synonym of type is deprecated; in a future version of numpy, it will be understood as (type, (1,)) / '(1,)type'.\n",
      "  np_resource = np.dtype([(\"resource\", np.ubyte, 1)])\n",
      "Using TensorFlow backend.\n"
     ]
    }
   ],
   "source": [
    "import tensorflow as tf\n",
    "import numpy as np\n",
    "import pandas as pd\n",
    "from keras.models import Sequential\n",
    "from tensorflow import keras\n",
    "from tensorflow.keras import layers\n",
    "from sklearn.preprocessing import MinMaxScaler"
   ]
  },
  {
   "cell_type": "code",
   "execution_count": 6,
   "metadata": {},
   "outputs": [],
   "source": [
    "def simple_generator():\n",
    "    while True:\n",
    "        x = np.random.rand(3,1)*10.0\n",
    "        #y = np.random.rand(1,1)*10.0\n",
    "        y = x[0]+2*x[1]+x[2]+np.random.rand(3,1)*0.01\n",
    "        \n",
    "        yield (x,y)"
   ]
  },
  {
   "cell_type": "code",
   "execution_count": 7,
   "metadata": {},
   "outputs": [
    {
     "name": "stdout",
     "output_type": "stream",
     "text": [
      "Model: \"sequential_1\"\n",
      "_________________________________________________________________\n",
      "Layer (type)                 Output Shape              Param #   \n",
      "=================================================================\n",
      "layer1 (Dense)               (None, 1)                 2         \n",
      "_________________________________________________________________\n",
      "layer2 (Dense)               (None, 1)                 2         \n",
      "=================================================================\n",
      "Total params: 4\n",
      "Trainable params: 4\n",
      "Non-trainable params: 0\n",
      "_________________________________________________________________\n"
     ]
    }
   ],
   "source": [
    "model = keras.Sequential()\n",
    "model.add(keras.Input(shape=(1,)))\n",
    "model.add(layers.Dense(1, activation=\"relu\", name=\"layer1\"))\n",
    "model.add(layers.Dense(1, activation=\"relu\",name=\"layer2\"))\n",
    "\n",
    "model.summary()\n"
   ]
  },
  {
   "cell_type": "code",
   "execution_count": 8,
   "metadata": {},
   "outputs": [],
   "source": [
    "model.compile(\n",
    "    loss=keras.losses.MSE,\n",
    "    optimizer=keras.optimizers.RMSprop(),\n",
    "    metrics=[\"accuracy\"],\n",
    ")"
   ]
  },
  {
   "cell_type": "code",
   "execution_count": 9,
   "metadata": {},
   "outputs": [
    {
     "name": "stdout",
     "output_type": "stream",
     "text": [
      "Epoch 1/20\n",
      "1/1 [==============================] - 1s 918ms/step - loss: 852.9796 - acc: 0.0000e+00\n",
      "Epoch 2/20\n",
      "1/1 [==============================] - 0s 0s/step - loss: 460.8444 - acc: 0.0000e+00\n",
      "Epoch 3/20\n",
      "1/1 [==============================] - 0s 0s/step - loss: 334.8184 - acc: 0.0000e+00\n",
      "Epoch 4/20\n",
      "1/1 [==============================] - 0s 0s/step - loss: 228.7316 - acc: 0.0000e+00\n",
      "Epoch 5/20\n",
      "1/1 [==============================] - 0s 0s/step - loss: 329.9957 - acc: 0.0000e+00\n",
      "Epoch 6/20\n",
      "1/1 [==============================] - 0s 0s/step - loss: 184.6550 - acc: 0.0000e+00\n",
      "Epoch 7/20\n",
      "1/1 [==============================] - 0s 0s/step - loss: 440.3550 - acc: 0.0000e+00\n",
      "Epoch 8/20\n",
      "1/1 [==============================] - 0s 0s/step - loss: 468.1056 - acc: 0.0000e+00\n",
      "Epoch 9/20\n",
      "1/1 [==============================] - 0s 0s/step - loss: 397.0623 - acc: 0.0000e+00\n",
      "Epoch 10/20\n",
      "1/1 [==============================] - 0s 0s/step - loss: 527.9576 - acc: 0.0000e+00\n",
      "Epoch 11/20\n",
      "1/1 [==============================] - 0s 0s/step - loss: 51.3338 - acc: 0.0000e+00\n",
      "Epoch 12/20\n",
      "1/1 [==============================] - 0s 0s/step - loss: 372.5767 - acc: 0.0000e+00\n",
      "Epoch 13/20\n",
      "1/1 [==============================] - 0s 0s/step - loss: 372.2895 - acc: 0.0000e+00\n",
      "Epoch 14/20\n",
      "1/1 [==============================] - 0s 0s/step - loss: 442.5622 - acc: 0.0000e+00\n",
      "Epoch 15/20\n",
      "1/1 [==============================] - 0s 0s/step - loss: 520.3792 - acc: 0.0000e+00\n",
      "Epoch 16/20\n",
      "1/1 [==============================] - 0s 0s/step - loss: 287.1406 - acc: 0.0000e+00\n",
      "Epoch 17/20\n",
      "1/1 [==============================] - 0s 16ms/step - loss: 851.6072 - acc: 0.0000e+00\n",
      "Epoch 18/20\n",
      "1/1 [==============================] - 0s 0s/step - loss: 418.1940 - acc: 0.0000e+00\n",
      "Epoch 19/20\n",
      "1/1 [==============================] - 0s 16ms/step - loss: 209.0856 - acc: 0.0000e+00\n",
      "Epoch 20/20\n",
      "1/1 [==============================] - 0s 0s/step - loss: 519.1345 - acc: 0.0000e+00\n"
     ]
    }
   ],
   "source": [
    "a  =simple_generator()\n",
    "history = model.fit(x=a,batch_size=16, epochs=20,steps_per_epoch=1)"
   ]
  }
 ],
 "metadata": {
  "kernelspec": {
   "display_name": "Python 3",
   "language": "python",
   "name": "python3"
  },
  "language_info": {
   "codemirror_mode": {
    "name": "ipython",
    "version": 3
   },
   "file_extension": ".py",
   "mimetype": "text/x-python",
   "name": "python",
   "nbconvert_exporter": "python",
   "pygments_lexer": "ipython3",
   "version": "3.6.12-final"
  }
 },
 "nbformat": 4,
 "nbformat_minor": 2
}